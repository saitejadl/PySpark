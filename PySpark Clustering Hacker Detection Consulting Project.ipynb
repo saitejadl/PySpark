{
  "cells": [
    {
      "cell_type": "markdown",
      "metadata": {
        "id": "eGzdRWnPcevw"
      },
      "source": [
        "# Clustering Consulting Project\n",
        "\n",
        "A large technology firm needs your help, they've been hacked! Luckily their forensic engineers have grabbed valuable data about the hacks, including information like session time,locations, wpm typing speed, etc. The forensic engineer relates to you what she has been able to figure out so far, she has been able to grab meta data of each session that the hackers used to connect to their servers. These are the features of the data:\n",
        "\n",
        "* 'Session_Connection_Time': How long the session lasted in minutes\n",
        "* 'Bytes Transferred': Number of MB transferred during session\n",
        "* 'Kali_Trace_Used': Indicates if the hacker was using Kali Linux\n",
        "* 'Servers_Corrupted': Number of server corrupted during the attack\n",
        "* 'Pages_Corrupted': Number of pages illegally accessed\n",
        "* 'Location': Location attack came from (Probably useless because the hackers used VPNs)\n",
        "* 'WPM_Typing_Speed': Their estimated typing speed based on session logs.\n",
        "\n",
        "\n",
        "The technology firm has 3 potential hackers that perpetrated the attack. Their certain of the first two hackers but they aren't very sure if the third hacker was involved or not. They have requested your help! Can you help figure out whether or not the third suspect had anything to do with the attacks, or was it just two hackers? It's probably not possible to know for sure, but maybe what you've just learned about Clustering can help!\n",
        "\n",
        "**One last key fact, the forensic engineer knows that the hackers trade off attacks. Meaning they should each have roughly the same amount of attacks. For example if there were 100 total attacks, then in a 2 hacker situation each should have about 50 hacks, in a three hacker situation each would have about 33 hacks. The engineer believes this is the key element to solving this, but doesn't know how to distinguish this unlabeled data into groups of hackers.**"
      ]
    },
    {
      "cell_type": "code",
      "source": [
        "\"\"\"To figure out whether or not the third suspect had anything to do with the attacks, or was it just two hackers?\"\"\""
      ],
      "metadata": {
        "colab": {
          "base_uri": "https://localhost:8080/",
          "height": 70
        },
        "id": "dS5yBrF0cf_Z",
        "outputId": "c20889f5-52a9-43fe-844d-de8b4496317d"
      },
      "execution_count": null,
      "outputs": [
        {
          "output_type": "execute_result",
          "data": {
            "text/plain": [
              "'To figure out whether or not the third suspect had anything to do with the attacks, or was it just two hackers?'"
            ],
            "application/vnd.google.colaboratory.intrinsic+json": {
              "type": "string"
            }
          },
          "metadata": {},
          "execution_count": 1
        }
      ]
    },
    {
      "cell_type": "code",
      "source": [
        "from google.colab import drive\n",
        "drive.mount('/content/drive')"
      ],
      "metadata": {
        "colab": {
          "base_uri": "https://localhost:8080/"
        },
        "id": "-CpcoxC_cgjW",
        "outputId": "4f864682-cd00-46a7-b060-63c5816068ae"
      },
      "execution_count": null,
      "outputs": [
        {
          "output_type": "stream",
          "name": "stdout",
          "text": [
            "Mounted at /content/drive\n"
          ]
        }
      ]
    },
    {
      "cell_type": "markdown",
      "metadata": {
        "id": "3BM94SG1vVhz"
      },
      "source": [
        "### Create SPARK_HOME and PYLIB env var and update PATH env var"
      ]
    },
    {
      "cell_type": "code",
      "metadata": {
        "id": "zovII6HB-6x4"
      },
      "source": [
        "!apt-get install openjdk-8-jdk-headless -qq > /dev/null\n",
        "\n",
        "!wget -q https://archive.apache.org/dist/spark/spark-3.0.1/spark-3.0.1-bin-hadoop2.7.tgz"
      ],
      "execution_count": null,
      "outputs": []
    },
    {
      "cell_type": "code",
      "metadata": {
        "id": "dlsYrr6BdbAQ"
      },
      "source": [
        "!tar xf spark-3.0.1-bin-hadoop2.7.tgz\n",
        "!pip install -q findspark"
      ],
      "execution_count": null,
      "outputs": []
    },
    {
      "cell_type": "code",
      "metadata": {
        "id": "FkdZ5cY_dbAQ"
      },
      "source": [
        "import os\n",
        "os.environ[\"JAVA_HOME\"] = \"/usr/lib/jvm/java-8-openjdk-amd64\"\n",
        "os.environ[\"SPARK_HOME\"] = \"/content//spark-3.0.1-bin-hadoop2.7\""
      ],
      "execution_count": null,
      "outputs": []
    },
    {
      "cell_type": "code",
      "metadata": {
        "id": "BB1-ztfqdbAQ"
      },
      "source": [
        "import findspark\n",
        "findspark.init()"
      ],
      "execution_count": null,
      "outputs": []
    },
    {
      "cell_type": "code",
      "execution_count": null,
      "metadata": {
        "id": "enpsGgaNdbAQ"
      },
      "outputs": [],
      "source": [
        "import pandas as pd\n",
        "import numpy as np\n",
        "import matplotlib.pyplot as plt\n",
        "import seaborn as sns\n",
        "import os\n",
        "import sys\n",
        "os.environ[\"PYLIB\"] = os.environ[\"SPARK_HOME\"] + \"/python/lib\"\n",
        "sys.path.insert(0, os.environ[\"PYLIB\"] + \"/py4j-0.10.4-src.zip\")\n",
        "sys.path.insert(0, os.environ[\"PYLIB\"] + \"/pyspark.zip\")"
      ]
    },
    {
      "cell_type": "markdown",
      "metadata": {
        "id": "6lAPypWOvVh1"
      },
      "source": [
        "### Initializing Spark"
      ]
    },
    {
      "cell_type": "markdown",
      "metadata": {
        "id": "X6wmw67IvVh1"
      },
      "source": [
        "Build __SparkConf__ object\n",
        "\n",
        "    Contains information about your application.  \n",
        "\n",
        "\n",
        "Create __SparkContext__ object\n",
        "    \n",
        "    Tells Spark how to access a cluster.\n",
        "    \n",
        "\n",
        "Create __SparkSession__ object\n",
        "\n",
        "    The entry point to programming Spark with the Dataset and DataFrame API.\n",
        "\n",
        "    Used to create DataFrame, register DataFrame as tables and execute SQL over tables etc."
      ]
    },
    {
      "cell_type": "code",
      "execution_count": null,
      "metadata": {
        "id": "isSncgZmvVh2"
      },
      "outputs": [],
      "source": [
        "from pyspark.conf import SparkConf\n",
        "from pyspark import SparkContext\n",
        "from pyspark.sql import SparkSession\n",
        "\n",
        "conf = SparkConf().setAppName(\"Hack Data Clustering\").setMaster('local')\n",
        "sc = SparkContext(conf=conf)\n",
        "spark = SparkSession(sc)"
      ]
    },
    {
      "cell_type": "code",
      "source": [
        "spark"
      ],
      "metadata": {
        "id": "PHHDCDOp_gat",
        "colab": {
          "base_uri": "https://localhost:8080/",
          "height": 219
        },
        "outputId": "18ba7296-99a2-41fd-93ea-afbbd90d6b86"
      },
      "execution_count": null,
      "outputs": [
        {
          "output_type": "execute_result",
          "data": {
            "text/plain": [
              "<pyspark.sql.session.SparkSession at 0x7f2ac68ca100>"
            ],
            "text/html": [
              "\n",
              "            <div>\n",
              "                <p><b>SparkSession - in-memory</b></p>\n",
              "                \n",
              "        <div>\n",
              "            <p><b>SparkContext</b></p>\n",
              "\n",
              "            <p><a href=\"http://6550e4f58aeb:4040\">Spark UI</a></p>\n",
              "\n",
              "            <dl>\n",
              "              <dt>Version</dt>\n",
              "                <dd><code>v3.0.1</code></dd>\n",
              "              <dt>Master</dt>\n",
              "                <dd><code>local</code></dd>\n",
              "              <dt>AppName</dt>\n",
              "                <dd><code>Hack Data Clustering</code></dd>\n",
              "            </dl>\n",
              "        </div>\n",
              "        \n",
              "            </div>\n",
              "        "
            ]
          },
          "metadata": {},
          "execution_count": 9
        }
      ]
    },
    {
      "cell_type": "markdown",
      "metadata": {
        "id": "pBeMt3mhvVh3"
      },
      "source": [
        "#### Loading the required libraries"
      ]
    },
    {
      "cell_type": "code",
      "execution_count": null,
      "metadata": {
        "id": "5wxyWpqcvVh3"
      },
      "outputs": [],
      "source": [
        "from pyspark.sql.types import *\n",
        "from pyspark.sql.functions import *\n",
        "from pyspark.sql.functions import isnan, when, count, col, countDistinct"
      ]
    },
    {
      "cell_type": "code",
      "source": [
        "#define schema\n",
        "#----------------No need to define schema columns are available in dataset"
      ],
      "metadata": {
        "id": "ugGR1JCyz_ci"
      },
      "execution_count": null,
      "outputs": []
    },
    {
      "cell_type": "markdown",
      "metadata": {
        "id": "5Zv7HGK6vVh4"
      },
      "source": [
        "#### Loading the data"
      ]
    },
    {
      "cell_type": "code",
      "execution_count": null,
      "metadata": {
        "id": "t8MyGrYSvVh4"
      },
      "outputs": [],
      "source": [
        "## Read data and create a dataframe\n",
        "Hack_Data = spark.read.format('csv').option('header','true').option('inferSchema','true')\\\n",
        "         .load(\"/content/drive/MyDrive/COURSE END ASSIGMENT/hack_data.csv\")"
      ]
    },
    {
      "cell_type": "markdown",
      "source": [
        "# Data Preparation"
      ],
      "metadata": {
        "id": "TZjvR65wkSRn"
      }
    },
    {
      "cell_type": "code",
      "source": [
        "Hack_Data.show(5)"
      ],
      "metadata": {
        "colab": {
          "base_uri": "https://localhost:8080/"
        },
        "id": "UdOVy7rMchB7",
        "outputId": "7309f03c-6511-4dab-8ea4-1d25dba93ad4"
      },
      "execution_count": null,
      "outputs": [
        {
          "output_type": "stream",
          "name": "stdout",
          "text": [
            "+-----------------------+-----------------+---------------+-----------------+---------------+--------------------+----------------+\n",
            "|Session_Connection_Time|Bytes Transferred|Kali_Trace_Used|Servers_Corrupted|Pages_Corrupted|            Location|WPM_Typing_Speed|\n",
            "+-----------------------+-----------------+---------------+-----------------+---------------+--------------------+----------------+\n",
            "|                    8.0|           391.09|              1|             2.96|            7.0|            Slovenia|           72.37|\n",
            "|                   20.0|           720.99|              0|             3.04|            9.0|British Virgin Is...|           69.08|\n",
            "|                   31.0|           356.32|              1|             3.71|            8.0|             Tokelau|           70.58|\n",
            "|                    2.0|           228.08|              1|             2.48|            8.0|             Bolivia|            70.8|\n",
            "|                   20.0|            408.5|              0|             3.57|            8.0|                Iraq|           71.28|\n",
            "+-----------------------+-----------------+---------------+-----------------+---------------+--------------------+----------------+\n",
            "only showing top 5 rows\n",
            "\n"
          ]
        }
      ]
    },
    {
      "cell_type": "code",
      "source": [
        "Hack_Data.describe().show()"
      ],
      "metadata": {
        "colab": {
          "base_uri": "https://localhost:8080/"
        },
        "id": "ic9UK9gsfzc4",
        "outputId": "03cf848f-92c7-4cc6-9197-96f15675defe"
      },
      "execution_count": null,
      "outputs": [
        {
          "output_type": "stream",
          "name": "stdout",
          "text": [
            "+-------+-----------------------+------------------+------------------+-----------------+------------------+-----------+------------------+\n",
            "|summary|Session_Connection_Time| Bytes Transferred|   Kali_Trace_Used|Servers_Corrupted|   Pages_Corrupted|   Location|  WPM_Typing_Speed|\n",
            "+-------+-----------------------+------------------+------------------+-----------------+------------------+-----------+------------------+\n",
            "|  count|                    334|               334|               334|              334|               334|        334|               334|\n",
            "|   mean|     30.008982035928145| 607.2452694610777|0.5119760479041916|5.258502994011977|10.838323353293413|       null|57.342395209580864|\n",
            "| stddev|     14.088200614636158|286.33593163576757|0.5006065264451406| 2.30190693339697|  3.06352633036022|       null| 13.41106336843464|\n",
            "|    min|                    1.0|              10.0|                 0|              1.0|               6.0|Afghanistan|              40.0|\n",
            "|    max|                   60.0|            1330.5|                 1|             10.0|              15.0|   Zimbabwe|              75.0|\n",
            "+-------+-----------------------+------------------+------------------+-----------------+------------------+-----------+------------------+\n",
            "\n"
          ]
        }
      ]
    },
    {
      "cell_type": "code",
      "source": [
        "Hack_Data.dtypes"
      ],
      "metadata": {
        "colab": {
          "base_uri": "https://localhost:8080/"
        },
        "id": "iKvtViucchKs",
        "outputId": "ea28fd00-1d80-4347-aac6-a67dc0f0a73e"
      },
      "execution_count": null,
      "outputs": [
        {
          "output_type": "execute_result",
          "data": {
            "text/plain": [
              "[('Session_Connection_Time', 'double'),\n",
              " ('Bytes Transferred', 'double'),\n",
              " ('Kali_Trace_Used', 'int'),\n",
              " ('Servers_Corrupted', 'double'),\n",
              " ('Pages_Corrupted', 'double'),\n",
              " ('Location', 'string'),\n",
              " ('WPM_Typing_Speed', 'double')]"
            ]
          },
          "metadata": {},
          "execution_count": 15
        }
      ]
    },
    {
      "cell_type": "code",
      "source": [
        "# unique values\n",
        "for i in Hack_Data.columns:\n",
        "  print(i,\":\",Hack_Data.select(i).distinct().count())"
      ],
      "metadata": {
        "colab": {
          "base_uri": "https://localhost:8080/"
        },
        "id": "B7FbYlBHchT5",
        "outputId": "08fe82e1-2338-492a-b3f5-dc8fcd2578a9"
      },
      "execution_count": null,
      "outputs": [
        {
          "output_type": "stream",
          "name": "stdout",
          "text": [
            "Session_Connection_Time : 56\n",
            "Bytes Transferred : 334\n",
            "Kali_Trace_Used : 2\n",
            "Servers_Corrupted : 272\n",
            "Pages_Corrupted : 8\n",
            "Location : 181\n",
            "WPM_Typing_Speed : 287\n"
          ]
        }
      ]
    },
    {
      "cell_type": "code",
      "execution_count": null,
      "metadata": {
        "id": "b2na6SPbvViI",
        "colab": {
          "base_uri": "https://localhost:8080/"
        },
        "outputId": "96aba14d-0957-4111-ca42-9196c9f52f15"
      },
      "outputs": [
        {
          "output_type": "stream",
          "name": "stdout",
          "text": [
            "+-----------------------+-----------------+---------------+-----------------+---------------+--------+----------------+\n",
            "|Session_Connection_Time|Bytes Transferred|Kali_Trace_Used|Servers_Corrupted|Pages_Corrupted|Location|WPM_Typing_Speed|\n",
            "+-----------------------+-----------------+---------------+-----------------+---------------+--------+----------------+\n",
            "|                      0|                0|              0|                0|              0|       0|               0|\n",
            "+-----------------------+-----------------+---------------+-----------------+---------------+--------+----------------+\n",
            "\n"
          ]
        }
      ],
      "source": [
        "# Checking for null values at each column\n",
        "Hack_Data.select([count(when(isnan(c), c)).alias(c) for c in Hack_Data.columns]).show()"
      ]
    },
    {
      "cell_type": "markdown",
      "source": [
        "# Data Preprocessing"
      ],
      "metadata": {
        "id": "hrzPoVAXmJVG"
      }
    },
    {
      "cell_type": "code",
      "source": [
        "#As we know that Hackers uses vpn hence Location attribute can be droped\n",
        "Hack_Data= Hack_Data.drop(\"Location\")\n",
        "Hack_Data.show()"
      ],
      "metadata": {
        "colab": {
          "base_uri": "https://localhost:8080/"
        },
        "id": "pRQ2vy1OciVO",
        "outputId": "38bd7db5-55db-4f86-b0e0-2816faf65697"
      },
      "execution_count": null,
      "outputs": [
        {
          "output_type": "stream",
          "name": "stdout",
          "text": [
            "+-----------------------+-----------------+---------------+-----------------+---------------+----------------+\n",
            "|Session_Connection_Time|Bytes Transferred|Kali_Trace_Used|Servers_Corrupted|Pages_Corrupted|WPM_Typing_Speed|\n",
            "+-----------------------+-----------------+---------------+-----------------+---------------+----------------+\n",
            "|                    8.0|           391.09|              1|             2.96|            7.0|           72.37|\n",
            "|                   20.0|           720.99|              0|             3.04|            9.0|           69.08|\n",
            "|                   31.0|           356.32|              1|             3.71|            8.0|           70.58|\n",
            "|                    2.0|           228.08|              1|             2.48|            8.0|            70.8|\n",
            "|                   20.0|            408.5|              0|             3.57|            8.0|           71.28|\n",
            "|                    1.0|           390.69|              1|             2.79|            9.0|           71.57|\n",
            "|                   18.0|           342.97|              1|              5.1|            7.0|           72.32|\n",
            "|                   22.0|           101.61|              1|             3.03|            7.0|           72.03|\n",
            "|                   15.0|           275.53|              1|             3.53|            8.0|           70.17|\n",
            "|                   12.0|           424.83|              1|             2.53|            8.0|           69.99|\n",
            "|                   15.0|           249.09|              1|             3.39|            9.0|           70.77|\n",
            "|                   32.0|           242.48|              0|             4.24|            8.0|           67.93|\n",
            "|                   23.0|           514.54|              0|             3.18|            8.0|           68.56|\n",
            "|                    9.0|           284.77|              0|             3.12|            9.0|           70.82|\n",
            "|                   27.0|           779.25|              1|             2.37|            8.0|           72.73|\n",
            "|                   12.0|           307.31|              1|             3.22|            7.0|           67.95|\n",
            "|                   21.0|           355.94|              1|              2.0|            7.0|            72.0|\n",
            "|                   10.0|           372.65|              0|             3.33|            7.0|           69.19|\n",
            "|                   20.0|           347.23|              1|             2.33|            7.0|           70.41|\n",
            "|                   22.0|           456.57|              0|             1.52|            8.0|           69.35|\n",
            "+-----------------------+-----------------+---------------+-----------------+---------------+----------------+\n",
            "only showing top 20 rows\n",
            "\n"
          ]
        }
      ]
    },
    {
      "cell_type": "code",
      "source": [
        "from pyspark.ml.linalg import Vectors\n",
        "from pyspark.ml.feature import VectorAssembler\n",
        "\n",
        "feat_cols = ['Session_Connection_Time', 'Bytes Transferred', 'Kali_Trace_Used',\n",
        "'Servers_Corrupted', 'Pages_Corrupted','WPM_Typing_Speed']\n",
        "\n",
        "vec_assembler = VectorAssembler(inputCols = feat_cols, outputCol='features')\n",
        "\n",
        "final_data = vec_assembler.transform(Hack_Data)\n",
        "from pyspark.ml.feature import StandardScaler\n",
        "\n",
        "scaler = StandardScaler(inputCol=\"features\", outputCol=\"scaledFeatures\", withStd=True, withMean=False)"
      ],
      "metadata": {
        "id": "W1PB2IbrMIb6"
      },
      "execution_count": null,
      "outputs": []
    },
    {
      "cell_type": "code",
      "source": [
        "from pyspark.ml.clustering import KMeans\n",
        "\n",
        "scalerModel = scaler.fit(final_data)\n",
        "\n",
        "cluster_final_data = scalerModel.transform(final_data)\n",
        "\n",
        "kmeans3 = KMeans(featuresCol='scaledFeatures',k=3)\n",
        "kmeans2 = KMeans(featuresCol='scaledFeatures',k=2)"
      ],
      "metadata": {
        "id": "FNuZ5xV64M8Z"
      },
      "execution_count": null,
      "outputs": []
    },
    {
      "cell_type": "code",
      "source": [
        "model_k3 = kmeans3.fit(cluster_final_data)\n",
        "model_k3.transform(cluster_final_data).groupBy('prediction').count().show()"
      ],
      "metadata": {
        "colab": {
          "base_uri": "https://localhost:8080/"
        },
        "id": "UFvDcQTMRzS5",
        "outputId": "26db48fc-5189-40c9-c5ee-00859bfef5c4"
      },
      "execution_count": null,
      "outputs": [
        {
          "output_type": "stream",
          "name": "stdout",
          "text": [
            "+----------+-----+\n",
            "|prediction|count|\n",
            "+----------+-----+\n",
            "|         1|  167|\n",
            "|         2|   79|\n",
            "|         0|   88|\n",
            "+----------+-----+\n",
            "\n"
          ]
        }
      ]
    },
    {
      "cell_type": "code",
      "source": [
        "model_k2 = kmeans2.fit(cluster_final_data)\n",
        "model_k2.transform(cluster_final_data).groupBy('prediction').count().show()\n"
      ],
      "metadata": {
        "id": "EqVGtG2HSdSI",
        "colab": {
          "base_uri": "https://localhost:8080/"
        },
        "outputId": "a87b6bed-3f87-45ec-b991-e40aaa4f9f79"
      },
      "execution_count": null,
      "outputs": [
        {
          "output_type": "stream",
          "name": "stdout",
          "text": [
            "+----------+-----+\n",
            "|prediction|count|\n",
            "+----------+-----+\n",
            "|         1|  167|\n",
            "|         0|  167|\n",
            "+----------+-----+\n",
            "\n"
          ]
        }
      ]
    },
    {
      "cell_type": "code",
      "source": [
        "cluster = model_k2.transform(cluster_final_data)\n",
        "cluster.show()"
      ],
      "metadata": {
        "colab": {
          "base_uri": "https://localhost:8080/"
        },
        "id": "dbI_89d6Folc",
        "outputId": "14779799-cb88-4f3b-afd6-9e2d5dd084ea"
      },
      "execution_count": null,
      "outputs": [
        {
          "output_type": "stream",
          "name": "stdout",
          "text": [
            "+-----------------------+-----------------+---------------+-----------------+---------------+----------------+--------------------+--------------------+----------+\n",
            "|Session_Connection_Time|Bytes Transferred|Kali_Trace_Used|Servers_Corrupted|Pages_Corrupted|WPM_Typing_Speed|            features|      scaledFeatures|prediction|\n",
            "+-----------------------+-----------------+---------------+-----------------+---------------+----------------+--------------------+--------------------+----------+\n",
            "|                    8.0|           391.09|              1|             2.96|            7.0|           72.37|[8.0,391.09,1.0,2...|[0.56785108466505...|         0|\n",
            "|                   20.0|           720.99|              0|             3.04|            9.0|           69.08|[20.0,720.99,0.0,...|[1.41962771166263...|         0|\n",
            "|                   31.0|           356.32|              1|             3.71|            8.0|           70.58|[31.0,356.32,1.0,...|[2.20042295307707...|         0|\n",
            "|                    2.0|           228.08|              1|             2.48|            8.0|            70.8|[2.0,228.08,1.0,2...|[0.14196277116626...|         0|\n",
            "|                   20.0|            408.5|              0|             3.57|            8.0|           71.28|[20.0,408.5,0.0,3...|[1.41962771166263...|         0|\n",
            "|                    1.0|           390.69|              1|             2.79|            9.0|           71.57|[1.0,390.69,1.0,2...|[0.07098138558313...|         0|\n",
            "|                   18.0|           342.97|              1|              5.1|            7.0|           72.32|[18.0,342.97,1.0,...|[1.27766494049636...|         0|\n",
            "|                   22.0|           101.61|              1|             3.03|            7.0|           72.03|[22.0,101.61,1.0,...|[1.56159048282889...|         0|\n",
            "|                   15.0|           275.53|              1|             3.53|            8.0|           70.17|[15.0,275.53,1.0,...|[1.06472078374697...|         0|\n",
            "|                   12.0|           424.83|              1|             2.53|            8.0|           69.99|[12.0,424.83,1.0,...|[0.85177662699757...|         0|\n",
            "|                   15.0|           249.09|              1|             3.39|            9.0|           70.77|[15.0,249.09,1.0,...|[1.06472078374697...|         0|\n",
            "|                   32.0|           242.48|              0|             4.24|            8.0|           67.93|[32.0,242.48,0.0,...|[2.27140433866020...|         0|\n",
            "|                   23.0|           514.54|              0|             3.18|            8.0|           68.56|[23.0,514.54,0.0,...|[1.63257186841202...|         0|\n",
            "|                    9.0|           284.77|              0|             3.12|            9.0|           70.82|[9.0,284.77,0.0,3...|[0.63883247024818...|         0|\n",
            "|                   27.0|           779.25|              1|             2.37|            8.0|           72.73|[27.0,779.25,1.0,...|[1.91649741074455...|         0|\n",
            "|                   12.0|           307.31|              1|             3.22|            7.0|           67.95|[12.0,307.31,1.0,...|[0.85177662699757...|         0|\n",
            "|                   21.0|           355.94|              1|              2.0|            7.0|            72.0|[21.0,355.94,1.0,...|[1.49060909724576...|         0|\n",
            "|                   10.0|           372.65|              0|             3.33|            7.0|           69.19|[10.0,372.65,0.0,...|[0.70981385583131...|         0|\n",
            "|                   20.0|           347.23|              1|             2.33|            7.0|           70.41|[20.0,347.23,1.0,...|[1.41962771166263...|         0|\n",
            "|                   22.0|           456.57|              0|             1.52|            8.0|           69.35|[22.0,456.57,0.0,...|[1.56159048282889...|         0|\n",
            "+-----------------------+-----------------+---------------+-----------------+---------------+----------------+--------------------+--------------------+----------+\n",
            "only showing top 20 rows\n",
            "\n"
          ]
        }
      ]
    },
    {
      "cell_type": "code",
      "source": [
        "cluster.select('prediction').write.option(\"header\",True).csv(\"COURSE END ACTIVITY Spark_ML Kmean predictions.csv\")"
      ],
      "metadata": {
        "id": "olpLM_nRGN9Q"
      },
      "execution_count": null,
      "outputs": []
    },
    {
      "cell_type": "code",
      "source": [
        "\"\"\"Hence we can conclude that there are only 2 hackers involved in the event and 3rd hacker was not involved according to their key fact.\"\"\""
      ],
      "metadata": {
        "id": "6aWNbQ__FLQ0",
        "colab": {
          "base_uri": "https://localhost:8080/",
          "height": 88
        },
        "outputId": "036d2e9c-cbed-4c59-def4-883a42463566"
      },
      "execution_count": null,
      "outputs": [
        {
          "output_type": "execute_result",
          "data": {
            "text/plain": [
              "'Hence we can conclude that there are only 2 hackers involved in the event and 3rd hacker was not involved according to their key fact.'"
            ],
            "application/vnd.google.colaboratory.intrinsic+json": {
              "type": "string"
            }
          },
          "metadata": {},
          "execution_count": 46
        }
      ]
    },
    {
      "cell_type": "code",
      "source": [],
      "metadata": {
        "id": "5zvR_XGEBnF4"
      },
      "execution_count": null,
      "outputs": []
    }
  ],
  "metadata": {
    "anaconda-cloud": {},
    "kernelspec": {
      "display_name": "Python 3",
      "language": "python",
      "name": "python3"
    },
    "language_info": {
      "codemirror_mode": {
        "name": "ipython",
        "version": 3
      },
      "file_extension": ".py",
      "mimetype": "text/x-python",
      "name": "python",
      "nbconvert_exporter": "python",
      "pygments_lexer": "ipython3",
      "version": "3.7.6"
    },
    "colab": {
      "provenance": []
    }
  },
  "nbformat": 4,
  "nbformat_minor": 0
}